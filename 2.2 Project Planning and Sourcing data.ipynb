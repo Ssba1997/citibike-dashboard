{
 "cells": [
  {
   "cell_type": "markdown",
   "id": "8235777e-a00a-4698-b5b6-ea89684a6cc2",
   "metadata": {},
   "source": [
    "#  2.2 Project Planning and Sourcing Data with an API"
   ]
  },
  {
   "cell_type": "code",
   "execution_count": 33,
   "id": "f5c5ac90-3409-4dee-a795-064bcde6fb72",
   "metadata": {},
   "outputs": [],
   "source": [
    "# Import libraries\n",
    "import pandas as pd\n",
    "import numpy as np\n",
    "import os\n",
    "import requests\n",
    "import json\n",
    "from datetime import datetime"
   ]
  },
  {
   "cell_type": "code",
   "execution_count": 2,
   "id": "9fb13207-1447-406b-a036-b8de13ceace2",
   "metadata": {},
   "outputs": [],
   "source": [
    "# Step 1: Define your folder path\n",
    "folderpath = r\"C:\\Users\\hp\\Documents\\New York’s CitiBike trips in 2022\\2022-citibike-tripdata\""
   ]
  },
  {
   "cell_type": "code",
   "execution_count": 3,
   "id": "7bf80a6b-e612-47d3-9155-fa4b4b8bb4cb",
   "metadata": {},
   "outputs": [],
   "source": [
    "# Step 2: Create list of file paths using list comprehension\n",
    "filepaths = [os.path.join(folderpath, name) for name in os.listdir(folderpath) if name.endswith('.csv')]"
   ]
  },
  {
   "cell_type": "code",
   "execution_count": 4,
   "id": "654ca0e2-4907-462d-854c-ea6a32acbd3c",
   "metadata": {},
   "outputs": [],
   "source": [
    "# Step 3: Only load 2 files for testing (Jan & Feb)\n",
    "# Adjust the filenames if needed (check your folder to match exact names)\n",
    "selected_files = [f for f in filepaths if '202201' in f or '202202' in f]"
   ]
  },
  {
   "cell_type": "code",
   "execution_count": 5,
   "id": "c815ed08-3a01-46bc-b6d7-a465ea9dbcb7",
   "metadata": {},
   "outputs": [
    {
     "name": "stdout",
     "output_type": "stream",
     "text": [
      "Loading C:\\Users\\hp\\Documents\\New York’s CitiBike trips in 2022\\2022-citibike-tripdata\\202201-citibike-tripdata_1.csv...\n",
      "Loading C:\\Users\\hp\\Documents\\New York’s CitiBike trips in 2022\\2022-citibike-tripdata\\202201-citibike-tripdata_2.csv...\n",
      "Loading C:\\Users\\hp\\Documents\\New York’s CitiBike trips in 2022\\2022-citibike-tripdata\\202202-citibike-tripdata_1.csv...\n",
      "Loading C:\\Users\\hp\\Documents\\New York’s CitiBike trips in 2022\\2022-citibike-tripdata\\202202-citibike-tripdata_2.csv...\n"
     ]
    }
   ],
   "source": [
    "# Step 4: Load each file with low_memory=False and store in a list\n",
    "dfs = []\n",
    "for file in selected_files:\n",
    "    print(f\"Loading {file}...\")\n",
    "    df = pd.read_csv(file, low_memory=False)\n",
    "    dfs.append(df)"
   ]
  },
  {
   "cell_type": "code",
   "execution_count": 6,
   "id": "348ab89d-6dd2-4c22-bcaa-a84ec7b3809a",
   "metadata": {},
   "outputs": [],
   "source": [
    "# Step 5: Combine both DataFrames\n",
    "combined_df = pd.concat(dfs, ignore_index=True)"
   ]
  },
  {
   "cell_type": "code",
   "execution_count": 8,
   "id": "58018c04-9605-4169-b3e5-681b82da8aaa",
   "metadata": {},
   "outputs": [],
   "source": [
    "# Step 6: Optional – Sample 10% to reduce memory load\n",
    "sample_df = combined_df.sample(frac=0.1, random_state=42)"
   ]
  },
  {
   "cell_type": "code",
   "execution_count": 9,
   "id": "c2e2d2a8-e007-435d-a5fb-0eefe8385069",
   "metadata": {},
   "outputs": [
    {
     "name": "stdout",
     "output_type": "stream",
     "text": [
      "Combined Shape: (2221867, 13)\n",
      "Sample Shape: (222187, 13)\n"
     ]
    },
    {
     "data": {
      "text/html": [
       "<div>\n",
       "<style scoped>\n",
       "    .dataframe tbody tr th:only-of-type {\n",
       "        vertical-align: middle;\n",
       "    }\n",
       "\n",
       "    .dataframe tbody tr th {\n",
       "        vertical-align: top;\n",
       "    }\n",
       "\n",
       "    .dataframe thead th {\n",
       "        text-align: right;\n",
       "    }\n",
       "</style>\n",
       "<table border=\"1\" class=\"dataframe\">\n",
       "  <thead>\n",
       "    <tr style=\"text-align: right;\">\n",
       "      <th></th>\n",
       "      <th>ride_id</th>\n",
       "      <th>rideable_type</th>\n",
       "      <th>started_at</th>\n",
       "      <th>ended_at</th>\n",
       "      <th>start_station_name</th>\n",
       "      <th>start_station_id</th>\n",
       "      <th>end_station_name</th>\n",
       "      <th>end_station_id</th>\n",
       "      <th>start_lat</th>\n",
       "      <th>start_lng</th>\n",
       "      <th>end_lat</th>\n",
       "      <th>end_lng</th>\n",
       "      <th>member_casual</th>\n",
       "    </tr>\n",
       "  </thead>\n",
       "  <tbody>\n",
       "    <tr>\n",
       "      <th>1827451</th>\n",
       "      <td>7938118BD3D3571A</td>\n",
       "      <td>electric_bike</td>\n",
       "      <td>2022-02-19 18:08:14.322</td>\n",
       "      <td>2022-02-19 18:24:19.594</td>\n",
       "      <td>2 Ave &amp; E 104 St</td>\n",
       "      <td>7436.11</td>\n",
       "      <td>Amsterdam Ave &amp; W 136 St</td>\n",
       "      <td>7920.05</td>\n",
       "      <td>40.789211</td>\n",
       "      <td>-73.943708</td>\n",
       "      <td>40.819746</td>\n",
       "      <td>-73.951819</td>\n",
       "      <td>casual</td>\n",
       "    </tr>\n",
       "    <tr>\n",
       "      <th>2152340</th>\n",
       "      <td>72C8F07D6FC8A769</td>\n",
       "      <td>electric_bike</td>\n",
       "      <td>2022-02-23 12:51:14.476</td>\n",
       "      <td>2022-02-23 12:57:17.926</td>\n",
       "      <td>8 Ave &amp; W 52 St</td>\n",
       "      <td>6816.07</td>\n",
       "      <td>W 42 St &amp; 6 Ave</td>\n",
       "      <td>6517.08</td>\n",
       "      <td>40.763707</td>\n",
       "      <td>-73.985162</td>\n",
       "      <td>40.754920</td>\n",
       "      <td>-73.984550</td>\n",
       "      <td>member</td>\n",
       "    </tr>\n",
       "    <tr>\n",
       "      <th>329569</th>\n",
       "      <td>7B4AC0A81689D5C5</td>\n",
       "      <td>classic_bike</td>\n",
       "      <td>2022-01-01 13:28:31.213</td>\n",
       "      <td>2022-01-01 13:42:25.379</td>\n",
       "      <td>Fulton St &amp; Clermont Ave</td>\n",
       "      <td>4386.05</td>\n",
       "      <td>Warren St &amp; Smith St</td>\n",
       "      <td>4371.01</td>\n",
       "      <td>40.684157</td>\n",
       "      <td>-73.969223</td>\n",
       "      <td>40.685424</td>\n",
       "      <td>-73.991278</td>\n",
       "      <td>member</td>\n",
       "    </tr>\n",
       "    <tr>\n",
       "      <th>569129</th>\n",
       "      <td>9251D82B814304B5</td>\n",
       "      <td>electric_bike</td>\n",
       "      <td>2022-01-26 16:43:24.188</td>\n",
       "      <td>2022-01-26 16:45:54.044</td>\n",
       "      <td>E 56 St &amp; 3 Ave</td>\n",
       "      <td>6691.11</td>\n",
       "      <td>E 58 St &amp; 1 Ave (NE Corner)</td>\n",
       "      <td>6682.03</td>\n",
       "      <td>40.759345</td>\n",
       "      <td>-73.967597</td>\n",
       "      <td>40.758924</td>\n",
       "      <td>-73.962262</td>\n",
       "      <td>member</td>\n",
       "    </tr>\n",
       "    <tr>\n",
       "      <th>131172</th>\n",
       "      <td>8C95AA4E5C18642D</td>\n",
       "      <td>classic_bike</td>\n",
       "      <td>2022-01-15 09:57:41.860</td>\n",
       "      <td>2022-01-15 10:05:05.645</td>\n",
       "      <td>E 138 St &amp; 5 Av</td>\n",
       "      <td>7809.13</td>\n",
       "      <td>Frederick Douglass Blvd &amp; W 145 St</td>\n",
       "      <td>7954.12</td>\n",
       "      <td>40.814490</td>\n",
       "      <td>-73.936153</td>\n",
       "      <td>40.823061</td>\n",
       "      <td>-73.941928</td>\n",
       "      <td>member</td>\n",
       "    </tr>\n",
       "  </tbody>\n",
       "</table>\n",
       "</div>"
      ],
      "text/plain": [
       "                  ride_id  rideable_type               started_at  \\\n",
       "1827451  7938118BD3D3571A  electric_bike  2022-02-19 18:08:14.322   \n",
       "2152340  72C8F07D6FC8A769  electric_bike  2022-02-23 12:51:14.476   \n",
       "329569   7B4AC0A81689D5C5   classic_bike  2022-01-01 13:28:31.213   \n",
       "569129   9251D82B814304B5  electric_bike  2022-01-26 16:43:24.188   \n",
       "131172   8C95AA4E5C18642D   classic_bike  2022-01-15 09:57:41.860   \n",
       "\n",
       "                        ended_at        start_station_name start_station_id  \\\n",
       "1827451  2022-02-19 18:24:19.594          2 Ave & E 104 St          7436.11   \n",
       "2152340  2022-02-23 12:57:17.926           8 Ave & W 52 St          6816.07   \n",
       "329569   2022-01-01 13:42:25.379  Fulton St & Clermont Ave          4386.05   \n",
       "569129   2022-01-26 16:45:54.044           E 56 St & 3 Ave          6691.11   \n",
       "131172   2022-01-15 10:05:05.645           E 138 St & 5 Av          7809.13   \n",
       "\n",
       "                           end_station_name end_station_id  start_lat  \\\n",
       "1827451            Amsterdam Ave & W 136 St        7920.05  40.789211   \n",
       "2152340                     W 42 St & 6 Ave        6517.08  40.763707   \n",
       "329569                 Warren St & Smith St        4371.01  40.684157   \n",
       "569129          E 58 St & 1 Ave (NE Corner)        6682.03  40.759345   \n",
       "131172   Frederick Douglass Blvd & W 145 St        7954.12  40.814490   \n",
       "\n",
       "         start_lng    end_lat    end_lng member_casual  \n",
       "1827451 -73.943708  40.819746 -73.951819        casual  \n",
       "2152340 -73.985162  40.754920 -73.984550        member  \n",
       "329569  -73.969223  40.685424 -73.991278        member  \n",
       "569129  -73.967597  40.758924 -73.962262        member  \n",
       "131172  -73.936153  40.823061 -73.941928        member  "
      ]
     },
     "execution_count": 9,
     "metadata": {},
     "output_type": "execute_result"
    }
   ],
   "source": [
    "# Step 7: Preview\n",
    "print(\"Combined Shape:\", combined_df.shape)\n",
    "print(\"Sample Shape:\", sample_df.shape)\n",
    "sample_df.head()"
   ]
  },
  {
   "cell_type": "code",
   "execution_count": 34,
   "id": "eaef54aa-bce6-4692-a3c8-6d03265e07db",
   "metadata": {},
   "outputs": [],
   "source": [
    "# Step 1: Get all CSV file paths in the folder (only Jan & Feb to avoid large memory load)\n",
    "filepaths = [os.path.join(folderpath, name) for name in os.listdir(folderpath) if name.endswith('.csv') and ('202201' in name or '202202' in name)]"
   ]
  },
  {
   "cell_type": "code",
   "execution_count": 35,
   "id": "02f5f155-f95c-4f1d-bff5-6974d8dca6a7",
   "metadata": {},
   "outputs": [],
   "source": [
    "# Step 2: Read each file into a DataFrame and store them in a list\n",
    "df_list = [pd.read_csv(path, low_memory=False) for path in filepaths]"
   ]
  },
  {
   "cell_type": "code",
   "execution_count": 36,
   "id": "f835c0c7-9562-4a3e-9428-282af5c71d6f",
   "metadata": {},
   "outputs": [],
   "source": [
    "# Step 3: Combine the DataFrames into one\n",
    "sample_df = pd.concat(df_list, ignore_index=True)"
   ]
  },
  {
   "cell_type": "code",
   "execution_count": 37,
   "id": "9f4d35e2-9b98-4a60-a5ae-cb387eb8108f",
   "metadata": {},
   "outputs": [
    {
     "name": "stdout",
     "output_type": "stream",
     "text": [
      "Sampled shape: (2221867, 13)\n"
     ]
    },
    {
     "data": {
      "text/html": [
       "<div>\n",
       "<style scoped>\n",
       "    .dataframe tbody tr th:only-of-type {\n",
       "        vertical-align: middle;\n",
       "    }\n",
       "\n",
       "    .dataframe tbody tr th {\n",
       "        vertical-align: top;\n",
       "    }\n",
       "\n",
       "    .dataframe thead th {\n",
       "        text-align: right;\n",
       "    }\n",
       "</style>\n",
       "<table border=\"1\" class=\"dataframe\">\n",
       "  <thead>\n",
       "    <tr style=\"text-align: right;\">\n",
       "      <th></th>\n",
       "      <th>ride_id</th>\n",
       "      <th>rideable_type</th>\n",
       "      <th>started_at</th>\n",
       "      <th>ended_at</th>\n",
       "      <th>start_station_name</th>\n",
       "      <th>start_station_id</th>\n",
       "      <th>end_station_name</th>\n",
       "      <th>end_station_id</th>\n",
       "      <th>start_lat</th>\n",
       "      <th>start_lng</th>\n",
       "      <th>end_lat</th>\n",
       "      <th>end_lng</th>\n",
       "      <th>member_casual</th>\n",
       "    </tr>\n",
       "  </thead>\n",
       "  <tbody>\n",
       "    <tr>\n",
       "      <th>0</th>\n",
       "      <td>BFD29218AB271154</td>\n",
       "      <td>electric_bike</td>\n",
       "      <td>2022-01-21 13:13:43.392</td>\n",
       "      <td>2022-01-21 13:22:31.463</td>\n",
       "      <td>West End Ave &amp; W 107 St</td>\n",
       "      <td>7650.05</td>\n",
       "      <td>Mt Morris Park W &amp; W 120 St</td>\n",
       "      <td>7685.14</td>\n",
       "      <td>40.802117</td>\n",
       "      <td>-73.968181</td>\n",
       "      <td>40.804038</td>\n",
       "      <td>-73.945925</td>\n",
       "      <td>member</td>\n",
       "    </tr>\n",
       "    <tr>\n",
       "      <th>1</th>\n",
       "      <td>7C953F2FD7BE1302</td>\n",
       "      <td>classic_bike</td>\n",
       "      <td>2022-01-10 11:30:54.162</td>\n",
       "      <td>2022-01-10 11:41:43.422</td>\n",
       "      <td>4 Ave &amp; 3 St</td>\n",
       "      <td>4028.04</td>\n",
       "      <td>Boerum Pl\\t&amp; Pacific St</td>\n",
       "      <td>4488.09</td>\n",
       "      <td>40.673746</td>\n",
       "      <td>-73.985649</td>\n",
       "      <td>40.688489</td>\n",
       "      <td>-73.991160</td>\n",
       "      <td>member</td>\n",
       "    </tr>\n",
       "    <tr>\n",
       "      <th>2</th>\n",
       "      <td>95893ABD40CED4B8</td>\n",
       "      <td>electric_bike</td>\n",
       "      <td>2022-01-26 10:52:43.096</td>\n",
       "      <td>2022-01-26 11:06:35.227</td>\n",
       "      <td>1 Ave &amp; E 62 St</td>\n",
       "      <td>6753.08</td>\n",
       "      <td>5 Ave &amp; E 29 St</td>\n",
       "      <td>6248.06</td>\n",
       "      <td>40.761227</td>\n",
       "      <td>-73.960940</td>\n",
       "      <td>40.745168</td>\n",
       "      <td>-73.986831</td>\n",
       "      <td>member</td>\n",
       "    </tr>\n",
       "    <tr>\n",
       "      <th>3</th>\n",
       "      <td>F853B50772137378</td>\n",
       "      <td>classic_bike</td>\n",
       "      <td>2022-01-03 08:35:48.247</td>\n",
       "      <td>2022-01-03 09:10:50.475</td>\n",
       "      <td>2 Ave &amp; E 96 St</td>\n",
       "      <td>7338.02</td>\n",
       "      <td>5 Ave &amp; E 29 St</td>\n",
       "      <td>6248.06</td>\n",
       "      <td>40.783964</td>\n",
       "      <td>-73.947167</td>\n",
       "      <td>40.745168</td>\n",
       "      <td>-73.986831</td>\n",
       "      <td>member</td>\n",
       "    </tr>\n",
       "    <tr>\n",
       "      <th>4</th>\n",
       "      <td>7590ADF834797B4B</td>\n",
       "      <td>classic_bike</td>\n",
       "      <td>2022-01-22 14:14:23.043</td>\n",
       "      <td>2022-01-22 14:34:57.474</td>\n",
       "      <td>6 Ave &amp; W 34 St</td>\n",
       "      <td>6364.10</td>\n",
       "      <td>5 Ave &amp; E 29 St</td>\n",
       "      <td>6248.06</td>\n",
       "      <td>40.749640</td>\n",
       "      <td>-73.988050</td>\n",
       "      <td>40.745168</td>\n",
       "      <td>-73.986831</td>\n",
       "      <td>member</td>\n",
       "    </tr>\n",
       "  </tbody>\n",
       "</table>\n",
       "</div>"
      ],
      "text/plain": [
       "            ride_id  rideable_type               started_at  \\\n",
       "0  BFD29218AB271154  electric_bike  2022-01-21 13:13:43.392   \n",
       "1  7C953F2FD7BE1302   classic_bike  2022-01-10 11:30:54.162   \n",
       "2  95893ABD40CED4B8  electric_bike  2022-01-26 10:52:43.096   \n",
       "3  F853B50772137378   classic_bike  2022-01-03 08:35:48.247   \n",
       "4  7590ADF834797B4B   classic_bike  2022-01-22 14:14:23.043   \n",
       "\n",
       "                  ended_at       start_station_name start_station_id  \\\n",
       "0  2022-01-21 13:22:31.463  West End Ave & W 107 St          7650.05   \n",
       "1  2022-01-10 11:41:43.422             4 Ave & 3 St          4028.04   \n",
       "2  2022-01-26 11:06:35.227          1 Ave & E 62 St          6753.08   \n",
       "3  2022-01-03 09:10:50.475          2 Ave & E 96 St          7338.02   \n",
       "4  2022-01-22 14:34:57.474          6 Ave & W 34 St          6364.10   \n",
       "\n",
       "              end_station_name end_station_id  start_lat  start_lng  \\\n",
       "0  Mt Morris Park W & W 120 St        7685.14  40.802117 -73.968181   \n",
       "1      Boerum Pl\\t& Pacific St        4488.09  40.673746 -73.985649   \n",
       "2              5 Ave & E 29 St        6248.06  40.761227 -73.960940   \n",
       "3              5 Ave & E 29 St        6248.06  40.783964 -73.947167   \n",
       "4              5 Ave & E 29 St        6248.06  40.749640 -73.988050   \n",
       "\n",
       "     end_lat    end_lng member_casual  \n",
       "0  40.804038 -73.945925        member  \n",
       "1  40.688489 -73.991160        member  \n",
       "2  40.745168 -73.986831        member  \n",
       "3  40.745168 -73.986831        member  \n",
       "4  40.745168 -73.986831        member  "
      ]
     },
     "execution_count": 37,
     "metadata": {},
     "output_type": "execute_result"
    }
   ],
   "source": [
    "# Step 4: Preview the result\n",
    "print(f\"Sampled shape: {sample_df.shape}\")\n",
    "sample_df.head()"
   ]
  },
  {
   "cell_type": "code",
   "execution_count": 38,
   "id": "74fe1c83-17bf-41a5-934a-1581a13e0511",
   "metadata": {},
   "outputs": [],
   "source": [
    "# This script imports and combines CitiBike data from January and February 2022.\n",
    "# \n",
    "# 1. The folderpath variable stores the path to the folder containing the CSV files.\n",
    "# 2. A list comprehension creates a list of full file paths.\n",
    "# 3. The pd.read_csv() function reads each CSV into a DataFrame, and all are stored in a list called df_list.\n",
    "# 4. The pd.concat() function combines all DataFrames into a single DataFrame named sample_df.\n",
    "# 5. Finally, we check the shape and preview the data to confirm successful loading."
   ]
  },
  {
   "cell_type": "markdown",
   "id": "244c7c0a-ffea-459c-9826-6657967d4af3",
   "metadata": {},
   "source": [
    "###  New York LaGuardia’s weather station"
   ]
  },
  {
   "cell_type": "code",
   "execution_count": 18,
   "id": "61b441c5-b6b9-4d6f-b94e-447af7eb4650",
   "metadata": {},
   "outputs": [],
   "source": [
    "# NOAA API setup\n",
    "token = 'EejUwHttmlpiQUGBiCSxCZKhhhRxpoKR'\n",
    "headers = {'token': token}"
   ]
  },
  {
   "cell_type": "code",
   "execution_count": 19,
   "id": "9de76164-a499-4d40-afa1-bf835120d64d",
   "metadata": {},
   "outputs": [],
   "source": [
    "# API parameters\n",
    "params = {\n",
    "    'datasetid': 'GHCND',\n",
    "    'stationid': 'GHCND:USW00094789',\n",
    "    'startdate': '2022-01-01',\n",
    "    'enddate': '2022-12-31',\n",
    "    'datatypeid': 'TAVG',\n",
    "    'limit': 1000,\n",
    "    'units': 'metric'\n",
    "}"
   ]
  },
  {
   "cell_type": "code",
   "execution_count": 20,
   "id": "6c2e2a7c-c3b9-4390-a6a5-c759bafddf11",
   "metadata": {},
   "outputs": [],
   "source": [
    "# Make request\n",
    "url = 'https://www.ncei.noaa.gov/cdo-web/api/v2/data'\n",
    "response = requests.get(url, headers=headers, params=params)"
   ]
  },
  {
   "cell_type": "code",
   "execution_count": 21,
   "id": "9416d05e-050b-4058-bb12-05c35b57027f",
   "metadata": {},
   "outputs": [],
   "source": [
    "# Parse JSON response\n",
    "data = response.json()"
   ]
  },
  {
   "cell_type": "code",
   "execution_count": 22,
   "id": "03e68fd5-1832-43d6-9f62-02efc2d1576a",
   "metadata": {},
   "outputs": [],
   "source": [
    "# Extract date and temperature\n",
    "dates_temp = [item['date'] for item in data['results']]\n",
    "temps = [item['value'] for item in data['results']]"
   ]
  },
  {
   "cell_type": "code",
   "execution_count": 23,
   "id": "1c70fdf8-a800-4520-a1da-41f3eb4d25d3",
   "metadata": {},
   "outputs": [],
   "source": [
    "# Build DataFrame\n",
    "df_temp = pd.DataFrame()\n",
    "df_temp['date'] = [datetime.strptime(d, \"%Y-%m-%dT%H:%M:%S\").date() for d in dates_temp]\n",
    "df_temp['avgTemp'] = [float(t)/10.0 for t in temps]  # NOAA gives temp in tenths of °C\n"
   ]
  },
  {
   "cell_type": "code",
   "execution_count": 41,
   "id": "a0073e51-cca0-4907-8876-4b068bd3b94f",
   "metadata": {
    "scrolled": true
   },
   "outputs": [
    {
     "data": {
      "text/html": [
       "<div>\n",
       "<style scoped>\n",
       "    .dataframe tbody tr th:only-of-type {\n",
       "        vertical-align: middle;\n",
       "    }\n",
       "\n",
       "    .dataframe tbody tr th {\n",
       "        vertical-align: top;\n",
       "    }\n",
       "\n",
       "    .dataframe thead th {\n",
       "        text-align: right;\n",
       "    }\n",
       "</style>\n",
       "<table border=\"1\" class=\"dataframe\">\n",
       "  <thead>\n",
       "    <tr style=\"text-align: right;\">\n",
       "      <th></th>\n",
       "      <th>date</th>\n",
       "      <th>avgTemp</th>\n",
       "    </tr>\n",
       "  </thead>\n",
       "  <tbody>\n",
       "    <tr>\n",
       "      <th>360</th>\n",
       "      <td>2022-12-27</td>\n",
       "      <td>-0.09</td>\n",
       "    </tr>\n",
       "    <tr>\n",
       "      <th>361</th>\n",
       "      <td>2022-12-28</td>\n",
       "      <td>0.21</td>\n",
       "    </tr>\n",
       "    <tr>\n",
       "      <th>362</th>\n",
       "      <td>2022-12-29</td>\n",
       "      <td>0.37</td>\n",
       "    </tr>\n",
       "    <tr>\n",
       "      <th>363</th>\n",
       "      <td>2022-12-30</td>\n",
       "      <td>0.54</td>\n",
       "    </tr>\n",
       "    <tr>\n",
       "      <th>364</th>\n",
       "      <td>2022-12-31</td>\n",
       "      <td>0.79</td>\n",
       "    </tr>\n",
       "  </tbody>\n",
       "</table>\n",
       "</div>"
      ],
      "text/plain": [
       "           date  avgTemp\n",
       "360  2022-12-27    -0.09\n",
       "361  2022-12-28     0.21\n",
       "362  2022-12-29     0.37\n",
       "363  2022-12-30     0.54\n",
       "364  2022-12-31     0.79"
      ]
     },
     "execution_count": 41,
     "metadata": {},
     "output_type": "execute_result"
    }
   ],
   "source": [
    "df_temp.tail()"
   ]
  },
  {
   "cell_type": "code",
   "execution_count": 42,
   "id": "79805f3f-be0a-43b4-a782-f699c7786cc7",
   "metadata": {},
   "outputs": [
    {
     "data": {
      "text/html": [
       "<div>\n",
       "<style scoped>\n",
       "    .dataframe tbody tr th:only-of-type {\n",
       "        vertical-align: middle;\n",
       "    }\n",
       "\n",
       "    .dataframe tbody tr th {\n",
       "        vertical-align: top;\n",
       "    }\n",
       "\n",
       "    .dataframe thead th {\n",
       "        text-align: right;\n",
       "    }\n",
       "</style>\n",
       "<table border=\"1\" class=\"dataframe\">\n",
       "  <thead>\n",
       "    <tr style=\"text-align: right;\">\n",
       "      <th></th>\n",
       "      <th>date</th>\n",
       "      <th>avgTemp</th>\n",
       "    </tr>\n",
       "  </thead>\n",
       "  <tbody>\n",
       "    <tr>\n",
       "      <th>0</th>\n",
       "      <td>2022-01-01</td>\n",
       "      <td>1.01</td>\n",
       "    </tr>\n",
       "    <tr>\n",
       "      <th>1</th>\n",
       "      <td>2022-01-02</td>\n",
       "      <td>1.15</td>\n",
       "    </tr>\n",
       "    <tr>\n",
       "      <th>2</th>\n",
       "      <td>2022-01-03</td>\n",
       "      <td>0.12</td>\n",
       "    </tr>\n",
       "    <tr>\n",
       "      <th>3</th>\n",
       "      <td>2022-01-04</td>\n",
       "      <td>-0.38</td>\n",
       "    </tr>\n",
       "    <tr>\n",
       "      <th>4</th>\n",
       "      <td>2022-01-05</td>\n",
       "      <td>0.25</td>\n",
       "    </tr>\n",
       "  </tbody>\n",
       "</table>\n",
       "</div>"
      ],
      "text/plain": [
       "         date  avgTemp\n",
       "0  2022-01-01     1.01\n",
       "1  2022-01-02     1.15\n",
       "2  2022-01-03     0.12\n",
       "3  2022-01-04    -0.38\n",
       "4  2022-01-05     0.25"
      ]
     },
     "execution_count": 42,
     "metadata": {},
     "output_type": "execute_result"
    }
   ],
   "source": [
    "df_temp.head()"
   ]
  },
  {
   "cell_type": "code",
   "execution_count": 24,
   "id": "4656d52a-69a8-4984-9898-562c8e5decb8",
   "metadata": {},
   "outputs": [
    {
     "name": "stdout",
     "output_type": "stream",
     "text": [
      "✅ Weather data saved as 'weather_lga_2022.csv'\n"
     ]
    }
   ],
   "source": [
    "# Export to CSV\n",
    "df_temp.to_csv('weather_lga_2022.csv', index=False)\n",
    "print(\"✅ Weather data saved as 'weather_lga_2022.csv'\")"
   ]
  },
  {
   "cell_type": "markdown",
   "id": "00c45b13-7633-4cd4-ac54-8941a27657da",
   "metadata": {},
   "source": [
    "###  Merge both data sets"
   ]
  },
  {
   "cell_type": "code",
   "execution_count": 28,
   "id": "81c2e33b-077f-4f08-acfe-b914fd19d1ca",
   "metadata": {},
   "outputs": [],
   "source": [
    "# Convert 'started_at' to datetime and extract date\n",
    "df['started_at'] = pd.to_datetime(df['started_at'])\n",
    "df['date'] = df['started_at'].dt.date"
   ]
  },
  {
   "cell_type": "code",
   "execution_count": 29,
   "id": "f970ae18-3db8-4694-ae28-889b12d8d3a0",
   "metadata": {},
   "outputs": [],
   "source": [
    "# Load weather data\n",
    "df_temp = pd.read_csv(\"weather_lga_2022.csv\")\n",
    "df_temp['date'] = pd.to_datetime(df_temp['date']).dt.date"
   ]
  },
  {
   "cell_type": "code",
   "execution_count": 30,
   "id": "18b45e3e-f87d-4e21-b71d-a3c1028995d1",
   "metadata": {},
   "outputs": [],
   "source": [
    "# Merge on 'date'\n",
    "df_merged = df.merge(df_temp, how='left', on='date')"
   ]
  },
  {
   "cell_type": "code",
   "execution_count": 46,
   "id": "047b3892-aacc-4138-bbd7-dae0dbc3d3a7",
   "metadata": {},
   "outputs": [
    {
     "name": "stdout",
     "output_type": "stream",
     "text": [
      "CPU times: total: 188 ms\n",
      "Wall time: 209 ms\n"
     ]
    }
   ],
   "source": [
    "%%time\n",
    "df_merged = df.merge(df_temp, how='left', on='date', indicator=True)\n"
   ]
  },
  {
   "cell_type": "code",
   "execution_count": 47,
   "id": "a8374f84-ae22-441a-8b56-72af16148409",
   "metadata": {},
   "outputs": [
    {
     "data": {
      "text/plain": [
       "_merge\n",
       "both          197311\n",
       "left_only          1\n",
       "right_only         0\n",
       "Name: count, dtype: int64"
      ]
     },
     "execution_count": 47,
     "metadata": {},
     "output_type": "execute_result"
    }
   ],
   "source": [
    "df_merged['_merge'].value_counts(dropna=False)"
   ]
  },
  {
   "cell_type": "code",
   "execution_count": 31,
   "id": "3a65a3d3-3349-4ed1-be47-eaf5264cf7ea",
   "metadata": {},
   "outputs": [
    {
     "name": "stdout",
     "output_type": "stream",
     "text": [
      "✅ Merged file saved to citibike_with_weather_2022.csv\n"
     ]
    }
   ],
   "source": [
    "# Export final merged file\n",
    "df_merged.to_csv(\"citibike_with_weather_2022.csv\", index=False)\n",
    "print(\"✅ Merged file saved to citibike_with_weather_2022.csv\")"
   ]
  },
  {
   "cell_type": "code",
   "execution_count": 32,
   "id": "359aa93b-5357-4b0b-9b8b-cb564a462f93",
   "metadata": {},
   "outputs": [
    {
     "data": {
      "text/plain": [
       "'C:\\\\Users\\\\hp\\\\Documents\\\\New York’s CitiBike trips in 2022'"
      ]
     },
     "execution_count": 32,
     "metadata": {},
     "output_type": "execute_result"
    }
   ],
   "source": [
    "import os\n",
    "os.getcwd()"
   ]
  }
 ],
 "metadata": {
  "kernelspec": {
   "display_name": "Python (citibike_env)",
   "language": "python",
   "name": "citibike_env"
  },
  "language_info": {
   "codemirror_mode": {
    "name": "ipython",
    "version": 3
   },
   "file_extension": ".py",
   "mimetype": "text/x-python",
   "name": "python",
   "nbconvert_exporter": "python",
   "pygments_lexer": "ipython3",
   "version": "3.10.16"
  }
 },
 "nbformat": 4,
 "nbformat_minor": 5
}
