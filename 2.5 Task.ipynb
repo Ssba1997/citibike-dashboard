{
 "cells": [
  {
   "cell_type": "markdown",
   "id": "ef492daf-1488-413d-8594-7cdfb88355d0",
   "metadata": {},
   "source": [
    "# E5 Advanced geospatial plotting"
   ]
  },
  {
   "cell_type": "code",
   "execution_count": 15,
   "id": "4b8eadb6-d7c3-4d1d-822b-ee504bccec99",
   "metadata": {},
   "outputs": [],
   "source": [
    "import pandas as pd\n",
    "import os\n",
    "from keplergl import KeplerGl\n",
    "from pyproj import CRS\n",
    "import numpy as np\n",
    "from matplotlib import pyplot as plt"
   ]
  },
  {
   "cell_type": "code",
   "execution_count": 2,
   "id": "cc4c510b-c415-4188-a095-7090f6bcdfc8",
   "metadata": {
    "scrolled": true
   },
   "outputs": [
    {
     "name": "stdout",
     "output_type": "stream",
     "text": [
      "Collecting keplergl\n",
      "  Using cached keplergl-0.3.7-py2.py3-none-any.whl\n",
      "Collecting ipywidgets>=8.1.5 (from keplergl)\n",
      "  Using cached ipywidgets-8.1.7-py3-none-any.whl.metadata (2.4 kB)\n",
      "Collecting traittypes>=0.2.1 (from keplergl)\n",
      "  Using cached traittypes-0.2.1-py2.py3-none-any.whl.metadata (1.0 kB)\n",
      "Requirement already satisfied: traitlets>=4.3.2 in c:\\users\\hp\\anaconda3\\lib\\site-packages (from keplergl) (5.14.3)\n",
      "Collecting geopandas>=0.14.3 (from keplergl)\n",
      "  Using cached geopandas-1.1.0-py3-none-any.whl.metadata (2.3 kB)\n",
      "Collecting Shapely>=1.6.4.post2 (from keplergl)\n",
      "  Using cached shapely-2.1.1-cp312-cp312-win_amd64.whl.metadata (7.0 kB)\n",
      "Collecting jupyter_packaging>=0.12.3 (from keplergl)\n",
      "  Using cached jupyter_packaging-0.12.3-py3-none-any.whl.metadata (7.7 kB)\n",
      "Requirement already satisfied: jupyter>=1.0.0 in c:\\users\\hp\\anaconda3\\lib\\site-packages (from keplergl) (1.0.0)\n",
      "Requirement already satisfied: jupyterlab>=4.1.6 in c:\\users\\hp\\anaconda3\\lib\\site-packages (from keplergl) (4.2.5)\n",
      "Requirement already satisfied: notebook>=6.0.1 in c:\\users\\hp\\anaconda3\\lib\\site-packages (from keplergl) (7.2.2)\n",
      "Requirement already satisfied: pyarrow>=16.0.0 in c:\\users\\hp\\anaconda3\\lib\\site-packages (from keplergl) (16.1.0)\n",
      "Collecting geoarrow-pyarrow>=0.1.2 (from keplergl)\n",
      "  Using cached geoarrow_pyarrow-0.2.0-py3-none-any.whl.metadata (628 bytes)\n",
      "Collecting geoarrow-pandas>=0.1.1 (from keplergl)\n",
      "  Using cached geoarrow_pandas-0.1.1-py3-none-any.whl.metadata (493 bytes)\n",
      "Requirement already satisfied: pandas in c:\\users\\hp\\anaconda3\\lib\\site-packages (from geoarrow-pandas>=0.1.1->keplergl) (2.2.2)\n",
      "Collecting geoarrow-types>=0.3.0 (from geoarrow-pyarrow>=0.1.2->keplergl)\n",
      "  Using cached geoarrow_types-0.3.0-py3-none-any.whl.metadata (409 bytes)\n",
      "Collecting geoarrow-c>=0.3.0 (from geoarrow-pyarrow>=0.1.2->keplergl)\n",
      "  Using cached geoarrow_c-0.3.0-cp312-cp312-win_amd64.whl.metadata (2.5 kB)\n",
      "Requirement already satisfied: numpy>=1.24 in c:\\users\\hp\\anaconda3\\lib\\site-packages (from geopandas>=0.14.3->keplergl) (1.26.4)\n",
      "Collecting pyogrio>=0.7.2 (from geopandas>=0.14.3->keplergl)\n",
      "  Downloading pyogrio-0.11.0-cp312-cp312-win_amd64.whl.metadata (5.4 kB)\n",
      "Requirement already satisfied: packaging in c:\\users\\hp\\anaconda3\\lib\\site-packages (from geopandas>=0.14.3->keplergl) (24.1)\n",
      "Collecting pyproj>=3.5.0 (from geopandas>=0.14.3->keplergl)\n",
      "  Using cached pyproj-3.7.1-cp312-cp312-win_amd64.whl.metadata (31 kB)\n",
      "Requirement already satisfied: comm>=0.1.3 in c:\\users\\hp\\anaconda3\\lib\\site-packages (from ipywidgets>=8.1.5->keplergl) (0.2.1)\n",
      "Requirement already satisfied: ipython>=6.1.0 in c:\\users\\hp\\anaconda3\\lib\\site-packages (from ipywidgets>=8.1.5->keplergl) (8.27.0)\n",
      "Collecting widgetsnbextension~=4.0.14 (from ipywidgets>=8.1.5->keplergl)\n",
      "  Using cached widgetsnbextension-4.0.14-py3-none-any.whl.metadata (1.6 kB)\n",
      "Collecting jupyterlab_widgets~=3.0.15 (from ipywidgets>=8.1.5->keplergl)\n",
      "  Using cached jupyterlab_widgets-3.0.15-py3-none-any.whl.metadata (20 kB)\n",
      "Requirement already satisfied: qtconsole in c:\\users\\hp\\anaconda3\\lib\\site-packages (from jupyter>=1.0.0->keplergl) (5.5.1)\n",
      "Requirement already satisfied: jupyter-console in c:\\users\\hp\\anaconda3\\lib\\site-packages (from jupyter>=1.0.0->keplergl) (6.6.3)\n",
      "Requirement already satisfied: nbconvert in c:\\users\\hp\\anaconda3\\lib\\site-packages (from jupyter>=1.0.0->keplergl) (7.16.4)\n",
      "Requirement already satisfied: ipykernel in c:\\users\\hp\\anaconda3\\lib\\site-packages (from jupyter>=1.0.0->keplergl) (6.28.0)\n",
      "Collecting deprecation (from jupyter_packaging>=0.12.3->keplergl)\n",
      "  Using cached deprecation-2.1.0-py2.py3-none-any.whl.metadata (4.6 kB)\n",
      "Requirement already satisfied: setuptools>=60.2.0 in c:\\users\\hp\\anaconda3\\lib\\site-packages (from jupyter_packaging>=0.12.3->keplergl) (75.1.0)\n",
      "Requirement already satisfied: tomlkit in c:\\users\\hp\\anaconda3\\lib\\site-packages (from jupyter_packaging>=0.12.3->keplergl) (0.11.1)\n",
      "Requirement already satisfied: wheel in c:\\users\\hp\\anaconda3\\lib\\site-packages (from jupyter_packaging>=0.12.3->keplergl) (0.44.0)\n",
      "Requirement already satisfied: async-lru>=1.0.0 in c:\\users\\hp\\anaconda3\\lib\\site-packages (from jupyterlab>=4.1.6->keplergl) (2.0.4)\n",
      "Requirement already satisfied: httpx>=0.25.0 in c:\\users\\hp\\anaconda3\\lib\\site-packages (from jupyterlab>=4.1.6->keplergl) (0.27.0)\n",
      "Requirement already satisfied: jinja2>=3.0.3 in c:\\users\\hp\\anaconda3\\lib\\site-packages (from jupyterlab>=4.1.6->keplergl) (3.1.4)\n",
      "Requirement already satisfied: jupyter-core in c:\\users\\hp\\anaconda3\\lib\\site-packages (from jupyterlab>=4.1.6->keplergl) (5.7.2)\n",
      "Requirement already satisfied: jupyter-lsp>=2.0.0 in c:\\users\\hp\\anaconda3\\lib\\site-packages (from jupyterlab>=4.1.6->keplergl) (2.2.0)\n",
      "Requirement already satisfied: jupyter-server<3,>=2.4.0 in c:\\users\\hp\\anaconda3\\lib\\site-packages (from jupyterlab>=4.1.6->keplergl) (2.14.1)\n",
      "Requirement already satisfied: jupyterlab-server<3,>=2.27.1 in c:\\users\\hp\\anaconda3\\lib\\site-packages (from jupyterlab>=4.1.6->keplergl) (2.27.3)\n",
      "Requirement already satisfied: notebook-shim>=0.2 in c:\\users\\hp\\anaconda3\\lib\\site-packages (from jupyterlab>=4.1.6->keplergl) (0.2.3)\n",
      "Requirement already satisfied: tornado>=6.2.0 in c:\\users\\hp\\anaconda3\\lib\\site-packages (from jupyterlab>=4.1.6->keplergl) (6.4.1)\n",
      "Requirement already satisfied: anyio in c:\\users\\hp\\anaconda3\\lib\\site-packages (from httpx>=0.25.0->jupyterlab>=4.1.6->keplergl) (4.2.0)\n",
      "Requirement already satisfied: certifi in c:\\users\\hp\\anaconda3\\lib\\site-packages (from httpx>=0.25.0->jupyterlab>=4.1.6->keplergl) (2024.8.30)\n",
      "Requirement already satisfied: httpcore==1.* in c:\\users\\hp\\anaconda3\\lib\\site-packages (from httpx>=0.25.0->jupyterlab>=4.1.6->keplergl) (1.0.2)\n",
      "Requirement already satisfied: idna in c:\\users\\hp\\anaconda3\\lib\\site-packages (from httpx>=0.25.0->jupyterlab>=4.1.6->keplergl) (3.7)\n",
      "Requirement already satisfied: sniffio in c:\\users\\hp\\anaconda3\\lib\\site-packages (from httpx>=0.25.0->jupyterlab>=4.1.6->keplergl) (1.3.0)\n",
      "Requirement already satisfied: h11<0.15,>=0.13 in c:\\users\\hp\\anaconda3\\lib\\site-packages (from httpcore==1.*->httpx>=0.25.0->jupyterlab>=4.1.6->keplergl) (0.14.0)\n",
      "Requirement already satisfied: debugpy>=1.6.5 in c:\\users\\hp\\anaconda3\\lib\\site-packages (from ipykernel->jupyter>=1.0.0->keplergl) (1.6.7)\n",
      "Requirement already satisfied: jupyter-client>=6.1.12 in c:\\users\\hp\\anaconda3\\lib\\site-packages (from ipykernel->jupyter>=1.0.0->keplergl) (8.6.0)\n",
      "Requirement already satisfied: matplotlib-inline>=0.1 in c:\\users\\hp\\anaconda3\\lib\\site-packages (from ipykernel->jupyter>=1.0.0->keplergl) (0.1.6)\n",
      "Requirement already satisfied: nest-asyncio in c:\\users\\hp\\anaconda3\\lib\\site-packages (from ipykernel->jupyter>=1.0.0->keplergl) (1.6.0)\n",
      "Requirement already satisfied: psutil in c:\\users\\hp\\anaconda3\\lib\\site-packages (from ipykernel->jupyter>=1.0.0->keplergl) (5.9.0)\n",
      "Requirement already satisfied: pyzmq>=24 in c:\\users\\hp\\anaconda3\\lib\\site-packages (from ipykernel->jupyter>=1.0.0->keplergl) (25.1.2)\n",
      "Requirement already satisfied: decorator in c:\\users\\hp\\anaconda3\\lib\\site-packages (from ipython>=6.1.0->ipywidgets>=8.1.5->keplergl) (5.1.1)\n",
      "Requirement already satisfied: jedi>=0.16 in c:\\users\\hp\\anaconda3\\lib\\site-packages (from ipython>=6.1.0->ipywidgets>=8.1.5->keplergl) (0.19.1)\n",
      "Requirement already satisfied: prompt-toolkit<3.1.0,>=3.0.41 in c:\\users\\hp\\anaconda3\\lib\\site-packages (from ipython>=6.1.0->ipywidgets>=8.1.5->keplergl) (3.0.43)\n",
      "Requirement already satisfied: pygments>=2.4.0 in c:\\users\\hp\\anaconda3\\lib\\site-packages (from ipython>=6.1.0->ipywidgets>=8.1.5->keplergl) (2.15.1)\n",
      "Requirement already satisfied: stack-data in c:\\users\\hp\\anaconda3\\lib\\site-packages (from ipython>=6.1.0->ipywidgets>=8.1.5->keplergl) (0.2.0)\n",
      "Requirement already satisfied: colorama in c:\\users\\hp\\anaconda3\\lib\\site-packages (from ipython>=6.1.0->ipywidgets>=8.1.5->keplergl) (0.4.6)\n",
      "Requirement already satisfied: MarkupSafe>=2.0 in c:\\users\\hp\\anaconda3\\lib\\site-packages (from jinja2>=3.0.3->jupyterlab>=4.1.6->keplergl) (2.1.3)\n",
      "Requirement already satisfied: platformdirs>=2.5 in c:\\users\\hp\\anaconda3\\lib\\site-packages (from jupyter-core->jupyterlab>=4.1.6->keplergl) (3.10.0)\n",
      "Requirement already satisfied: pywin32>=300 in c:\\users\\hp\\anaconda3\\lib\\site-packages (from jupyter-core->jupyterlab>=4.1.6->keplergl) (305.1)\n",
      "Requirement already satisfied: argon2-cffi>=21.1 in c:\\users\\hp\\anaconda3\\lib\\site-packages (from jupyter-server<3,>=2.4.0->jupyterlab>=4.1.6->keplergl) (21.3.0)\n",
      "Requirement already satisfied: jupyter-events>=0.9.0 in c:\\users\\hp\\anaconda3\\lib\\site-packages (from jupyter-server<3,>=2.4.0->jupyterlab>=4.1.6->keplergl) (0.10.0)\n",
      "Requirement already satisfied: jupyter-server-terminals>=0.4.4 in c:\\users\\hp\\anaconda3\\lib\\site-packages (from jupyter-server<3,>=2.4.0->jupyterlab>=4.1.6->keplergl) (0.4.4)\n",
      "Requirement already satisfied: nbformat>=5.3.0 in c:\\users\\hp\\anaconda3\\lib\\site-packages (from jupyter-server<3,>=2.4.0->jupyterlab>=4.1.6->keplergl) (5.10.4)\n",
      "Requirement already satisfied: overrides>=5.0 in c:\\users\\hp\\anaconda3\\lib\\site-packages (from jupyter-server<3,>=2.4.0->jupyterlab>=4.1.6->keplergl) (7.4.0)\n",
      "Requirement already satisfied: prometheus-client>=0.9 in c:\\users\\hp\\anaconda3\\lib\\site-packages (from jupyter-server<3,>=2.4.0->jupyterlab>=4.1.6->keplergl) (0.14.1)\n",
      "Requirement already satisfied: pywinpty>=2.0.1 in c:\\users\\hp\\anaconda3\\lib\\site-packages (from jupyter-server<3,>=2.4.0->jupyterlab>=4.1.6->keplergl) (2.0.10)\n",
      "Requirement already satisfied: send2trash>=1.8.2 in c:\\users\\hp\\anaconda3\\lib\\site-packages (from jupyter-server<3,>=2.4.0->jupyterlab>=4.1.6->keplergl) (1.8.2)\n",
      "Requirement already satisfied: terminado>=0.8.3 in c:\\users\\hp\\anaconda3\\lib\\site-packages (from jupyter-server<3,>=2.4.0->jupyterlab>=4.1.6->keplergl) (0.17.1)\n",
      "Requirement already satisfied: websocket-client>=1.7 in c:\\users\\hp\\anaconda3\\lib\\site-packages (from jupyter-server<3,>=2.4.0->jupyterlab>=4.1.6->keplergl) (1.8.0)\n",
      "Requirement already satisfied: babel>=2.10 in c:\\users\\hp\\anaconda3\\lib\\site-packages (from jupyterlab-server<3,>=2.27.1->jupyterlab>=4.1.6->keplergl) (2.11.0)\n",
      "Requirement already satisfied: json5>=0.9.0 in c:\\users\\hp\\anaconda3\\lib\\site-packages (from jupyterlab-server<3,>=2.27.1->jupyterlab>=4.1.6->keplergl) (0.9.6)\n",
      "Requirement already satisfied: jsonschema>=4.18.0 in c:\\users\\hp\\anaconda3\\lib\\site-packages (from jupyterlab-server<3,>=2.27.1->jupyterlab>=4.1.6->keplergl) (4.23.0)\n",
      "Requirement already satisfied: requests>=2.31 in c:\\users\\hp\\anaconda3\\lib\\site-packages (from jupyterlab-server<3,>=2.27.1->jupyterlab>=4.1.6->keplergl) (2.32.3)\n",
      "Requirement already satisfied: beautifulsoup4 in c:\\users\\hp\\anaconda3\\lib\\site-packages (from nbconvert->jupyter>=1.0.0->keplergl) (4.12.3)\n",
      "Requirement already satisfied: bleach!=5.0.0 in c:\\users\\hp\\anaconda3\\lib\\site-packages (from nbconvert->jupyter>=1.0.0->keplergl) (4.1.0)\n",
      "Requirement already satisfied: defusedxml in c:\\users\\hp\\anaconda3\\lib\\site-packages (from nbconvert->jupyter>=1.0.0->keplergl) (0.7.1)\n",
      "Requirement already satisfied: jupyterlab-pygments in c:\\users\\hp\\anaconda3\\lib\\site-packages (from nbconvert->jupyter>=1.0.0->keplergl) (0.1.2)\n",
      "Requirement already satisfied: mistune<4,>=2.0.3 in c:\\users\\hp\\anaconda3\\lib\\site-packages (from nbconvert->jupyter>=1.0.0->keplergl) (2.0.4)\n",
      "Requirement already satisfied: nbclient>=0.5.0 in c:\\users\\hp\\anaconda3\\lib\\site-packages (from nbconvert->jupyter>=1.0.0->keplergl) (0.8.0)\n",
      "Requirement already satisfied: pandocfilters>=1.4.1 in c:\\users\\hp\\anaconda3\\lib\\site-packages (from nbconvert->jupyter>=1.0.0->keplergl) (1.5.0)\n",
      "Requirement already satisfied: tinycss2 in c:\\users\\hp\\anaconda3\\lib\\site-packages (from nbconvert->jupyter>=1.0.0->keplergl) (1.2.1)\n",
      "Requirement already satisfied: python-dateutil>=2.8.2 in c:\\users\\hp\\anaconda3\\lib\\site-packages (from pandas->geoarrow-pandas>=0.1.1->keplergl) (2.9.0.post0)\n",
      "Requirement already satisfied: pytz>=2020.1 in c:\\users\\hp\\anaconda3\\lib\\site-packages (from pandas->geoarrow-pandas>=0.1.1->keplergl) (2024.1)\n",
      "Requirement already satisfied: tzdata>=2022.7 in c:\\users\\hp\\anaconda3\\lib\\site-packages (from pandas->geoarrow-pandas>=0.1.1->keplergl) (2023.3)\n",
      "Requirement already satisfied: qtpy>=2.4.0 in c:\\users\\hp\\anaconda3\\lib\\site-packages (from qtconsole->jupyter>=1.0.0->keplergl) (2.4.1)\n",
      "Requirement already satisfied: argon2-cffi-bindings in c:\\users\\hp\\anaconda3\\lib\\site-packages (from argon2-cffi>=21.1->jupyter-server<3,>=2.4.0->jupyterlab>=4.1.6->keplergl) (21.2.0)\n",
      "Requirement already satisfied: six>=1.9.0 in c:\\users\\hp\\anaconda3\\lib\\site-packages (from bleach!=5.0.0->nbconvert->jupyter>=1.0.0->keplergl) (1.16.0)\n",
      "Requirement already satisfied: webencodings in c:\\users\\hp\\anaconda3\\lib\\site-packages (from bleach!=5.0.0->nbconvert->jupyter>=1.0.0->keplergl) (0.5.1)\n",
      "Requirement already satisfied: parso<0.9.0,>=0.8.3 in c:\\users\\hp\\anaconda3\\lib\\site-packages (from jedi>=0.16->ipython>=6.1.0->ipywidgets>=8.1.5->keplergl) (0.8.3)\n",
      "Requirement already satisfied: attrs>=22.2.0 in c:\\users\\hp\\anaconda3\\lib\\site-packages (from jsonschema>=4.18.0->jupyterlab-server<3,>=2.27.1->jupyterlab>=4.1.6->keplergl) (23.1.0)\n",
      "Requirement already satisfied: jsonschema-specifications>=2023.03.6 in c:\\users\\hp\\anaconda3\\lib\\site-packages (from jsonschema>=4.18.0->jupyterlab-server<3,>=2.27.1->jupyterlab>=4.1.6->keplergl) (2023.7.1)\n",
      "Requirement already satisfied: referencing>=0.28.4 in c:\\users\\hp\\anaconda3\\lib\\site-packages (from jsonschema>=4.18.0->jupyterlab-server<3,>=2.27.1->jupyterlab>=4.1.6->keplergl) (0.30.2)\n",
      "Requirement already satisfied: rpds-py>=0.7.1 in c:\\users\\hp\\anaconda3\\lib\\site-packages (from jsonschema>=4.18.0->jupyterlab-server<3,>=2.27.1->jupyterlab>=4.1.6->keplergl) (0.10.6)\n",
      "Requirement already satisfied: python-json-logger>=2.0.4 in c:\\users\\hp\\anaconda3\\lib\\site-packages (from jupyter-events>=0.9.0->jupyter-server<3,>=2.4.0->jupyterlab>=4.1.6->keplergl) (2.0.7)\n",
      "Requirement already satisfied: pyyaml>=5.3 in c:\\users\\hp\\anaconda3\\lib\\site-packages (from jupyter-events>=0.9.0->jupyter-server<3,>=2.4.0->jupyterlab>=4.1.6->keplergl) (6.0.1)\n",
      "Requirement already satisfied: rfc3339-validator in c:\\users\\hp\\anaconda3\\lib\\site-packages (from jupyter-events>=0.9.0->jupyter-server<3,>=2.4.0->jupyterlab>=4.1.6->keplergl) (0.1.4)\n",
      "Requirement already satisfied: rfc3986-validator>=0.1.1 in c:\\users\\hp\\anaconda3\\lib\\site-packages (from jupyter-events>=0.9.0->jupyter-server<3,>=2.4.0->jupyterlab>=4.1.6->keplergl) (0.1.1)\n",
      "Requirement already satisfied: fastjsonschema>=2.15 in c:\\users\\hp\\anaconda3\\lib\\site-packages (from nbformat>=5.3.0->jupyter-server<3,>=2.4.0->jupyterlab>=4.1.6->keplergl) (2.16.2)\n",
      "Requirement already satisfied: wcwidth in c:\\users\\hp\\anaconda3\\lib\\site-packages (from prompt-toolkit<3.1.0,>=3.0.41->ipython>=6.1.0->ipywidgets>=8.1.5->keplergl) (0.2.5)\n",
      "Requirement already satisfied: charset-normalizer<4,>=2 in c:\\users\\hp\\anaconda3\\lib\\site-packages (from requests>=2.31->jupyterlab-server<3,>=2.27.1->jupyterlab>=4.1.6->keplergl) (3.3.2)\n",
      "Requirement already satisfied: urllib3<3,>=1.21.1 in c:\\users\\hp\\anaconda3\\lib\\site-packages (from requests>=2.31->jupyterlab-server<3,>=2.27.1->jupyterlab>=4.1.6->keplergl) (2.2.3)\n",
      "Requirement already satisfied: soupsieve>1.2 in c:\\users\\hp\\anaconda3\\lib\\site-packages (from beautifulsoup4->nbconvert->jupyter>=1.0.0->keplergl) (2.5)\n",
      "Requirement already satisfied: executing in c:\\users\\hp\\anaconda3\\lib\\site-packages (from stack-data->ipython>=6.1.0->ipywidgets>=8.1.5->keplergl) (0.8.3)\n",
      "Requirement already satisfied: asttokens in c:\\users\\hp\\anaconda3\\lib\\site-packages (from stack-data->ipython>=6.1.0->ipywidgets>=8.1.5->keplergl) (2.0.5)\n",
      "Requirement already satisfied: pure-eval in c:\\users\\hp\\anaconda3\\lib\\site-packages (from stack-data->ipython>=6.1.0->ipywidgets>=8.1.5->keplergl) (0.2.2)\n",
      "Collecting fqdn (from jsonschema[format-nongpl]>=4.18.0->jupyter-events>=0.9.0->jupyter-server<3,>=2.4.0->jupyterlab>=4.1.6->keplergl)\n",
      "  Using cached fqdn-1.5.1-py3-none-any.whl.metadata (1.4 kB)\n",
      "Collecting isoduration (from jsonschema[format-nongpl]>=4.18.0->jupyter-events>=0.9.0->jupyter-server<3,>=2.4.0->jupyterlab>=4.1.6->keplergl)\n",
      "  Using cached isoduration-20.11.0-py3-none-any.whl.metadata (5.7 kB)\n",
      "Requirement already satisfied: jsonpointer>1.13 in c:\\users\\hp\\anaconda3\\lib\\site-packages (from jsonschema[format-nongpl]>=4.18.0->jupyter-events>=0.9.0->jupyter-server<3,>=2.4.0->jupyterlab>=4.1.6->keplergl) (2.1)\n",
      "Collecting uri-template (from jsonschema[format-nongpl]>=4.18.0->jupyter-events>=0.9.0->jupyter-server<3,>=2.4.0->jupyterlab>=4.1.6->keplergl)\n",
      "  Using cached uri_template-1.3.0-py3-none-any.whl.metadata (8.8 kB)\n",
      "Collecting webcolors>=24.6.0 (from jsonschema[format-nongpl]>=4.18.0->jupyter-events>=0.9.0->jupyter-server<3,>=2.4.0->jupyterlab>=4.1.6->keplergl)\n",
      "  Using cached webcolors-24.11.1-py3-none-any.whl.metadata (2.2 kB)\n",
      "Requirement already satisfied: cffi>=1.0.1 in c:\\users\\hp\\anaconda3\\lib\\site-packages (from argon2-cffi-bindings->argon2-cffi>=21.1->jupyter-server<3,>=2.4.0->jupyterlab>=4.1.6->keplergl) (1.17.1)\n",
      "Requirement already satisfied: pycparser in c:\\users\\hp\\anaconda3\\lib\\site-packages (from cffi>=1.0.1->argon2-cffi-bindings->argon2-cffi>=21.1->jupyter-server<3,>=2.4.0->jupyterlab>=4.1.6->keplergl) (2.21)\n",
      "Requirement already satisfied: arrow>=0.15.0 in c:\\users\\hp\\anaconda3\\lib\\site-packages (from isoduration->jsonschema[format-nongpl]>=4.18.0->jupyter-events>=0.9.0->jupyter-server<3,>=2.4.0->jupyterlab>=4.1.6->keplergl) (1.2.3)\n",
      "Using cached geoarrow_pandas-0.1.1-py3-none-any.whl (6.2 kB)\n",
      "Using cached geoarrow_pyarrow-0.2.0-py3-none-any.whl (25 kB)\n",
      "Using cached geopandas-1.1.0-py3-none-any.whl (338 kB)\n",
      "Using cached ipywidgets-8.1.7-py3-none-any.whl (139 kB)\n",
      "Using cached jupyter_packaging-0.12.3-py3-none-any.whl (15 kB)\n",
      "Using cached shapely-2.1.1-cp312-cp312-win_amd64.whl (1.7 MB)\n",
      "Using cached traittypes-0.2.1-py2.py3-none-any.whl (8.6 kB)\n",
      "Using cached geoarrow_c-0.3.0-cp312-cp312-win_amd64.whl (483 kB)\n",
      "Using cached geoarrow_types-0.3.0-py3-none-any.whl (19 kB)\n",
      "Using cached jupyterlab_widgets-3.0.15-py3-none-any.whl (216 kB)\n",
      "Downloading pyogrio-0.11.0-cp312-cp312-win_amd64.whl (19.2 MB)\n",
      "   ---------------------------------------- 0.0/19.2 MB ? eta -:--:--\n",
      "   -- ------------------------------------- 1.0/19.2 MB 6.3 MB/s eta 0:00:03\n",
      "   ------ --------------------------------- 3.1/19.2 MB 9.2 MB/s eta 0:00:02\n",
      "   ---------- ----------------------------- 5.2/19.2 MB 8.8 MB/s eta 0:00:02\n",
      "   ------------- -------------------------- 6.6/19.2 MB 8.8 MB/s eta 0:00:02\n",
      "   ----------------- ---------------------- 8.4/19.2 MB 8.4 MB/s eta 0:00:02\n",
      "   ---------------------- ----------------- 11.0/19.2 MB 9.0 MB/s eta 0:00:01\n",
      "   ---------------------------- ----------- 13.9/19.2 MB 9.7 MB/s eta 0:00:01\n",
      "   ---------------------------------- ----- 16.5/19.2 MB 10.1 MB/s eta 0:00:01\n",
      "   -------------------------------------- - 18.6/19.2 MB 10.2 MB/s eta 0:00:01\n",
      "   ---------------------------------------- 19.2/19.2 MB 9.6 MB/s eta 0:00:00\n",
      "Using cached pyproj-3.7.1-cp312-cp312-win_amd64.whl (6.3 MB)\n",
      "Using cached widgetsnbextension-4.0.14-py3-none-any.whl (2.2 MB)\n",
      "Using cached deprecation-2.1.0-py2.py3-none-any.whl (11 kB)\n",
      "Using cached webcolors-24.11.1-py3-none-any.whl (14 kB)\n",
      "Using cached fqdn-1.5.1-py3-none-any.whl (9.1 kB)\n",
      "Using cached isoduration-20.11.0-py3-none-any.whl (11 kB)\n",
      "Using cached uri_template-1.3.0-py3-none-any.whl (11 kB)\n",
      "Installing collected packages: widgetsnbextension, webcolors, uri-template, traittypes, Shapely, pyproj, pyogrio, jupyterlab_widgets, geoarrow-types, geoarrow-c, fqdn, deprecation, jupyter_packaging, geoarrow-pyarrow, isoduration, geopandas, geoarrow-pandas, ipywidgets, keplergl\n",
      "  Attempting uninstall: widgetsnbextension\n",
      "    Found existing installation: widgetsnbextension 3.6.6\n",
      "    Uninstalling widgetsnbextension-3.6.6:\n",
      "      Successfully uninstalled widgetsnbextension-3.6.6\n",
      "  Attempting uninstall: jupyterlab_widgets\n",
      "    Found existing installation: jupyterlab-widgets 1.0.0\n",
      "    Uninstalling jupyterlab-widgets-1.0.0:\n",
      "      Successfully uninstalled jupyterlab-widgets-1.0.0\n",
      "  Attempting uninstall: ipywidgets\n",
      "    Found existing installation: ipywidgets 7.8.1\n",
      "    Uninstalling ipywidgets-7.8.1:\n",
      "      Successfully uninstalled ipywidgets-7.8.1\n",
      "Successfully installed Shapely-2.1.1 deprecation-2.1.0 fqdn-1.5.1 geoarrow-c-0.3.0 geoarrow-pandas-0.1.1 geoarrow-pyarrow-0.2.0 geoarrow-types-0.3.0 geopandas-1.1.0 ipywidgets-8.1.7 isoduration-20.11.0 jupyter_packaging-0.12.3 jupyterlab_widgets-3.0.15 keplergl-0.3.7 pyogrio-0.11.0 pyproj-3.7.1 traittypes-0.2.1 uri-template-1.3.0 webcolors-24.11.1 widgetsnbextension-4.0.14\n"
     ]
    }
   ],
   "source": [
    "!pip install keplergl"
   ]
  },
  {
   "cell_type": "code",
   "execution_count": 4,
   "id": "c0298c44-d462-42a2-9278-dbc3ff625893",
   "metadata": {},
   "outputs": [],
   "source": [
    "from keplergl import KeplerGl"
   ]
  },
  {
   "cell_type": "code",
   "execution_count": 7,
   "id": "7f578368-e9c6-48b0-95e8-175d5a37c309",
   "metadata": {},
   "outputs": [],
   "source": [
    "df = pd.read_csv(r'C:\\Users\\hp\\Documents\\.ipynb_checkpoints\\nyc_data.csv', index_col=0, low_memory=False)"
   ]
  },
  {
   "cell_type": "code",
   "execution_count": 8,
   "id": "6fc98552-ab06-4962-b16f-5755b97a6a94",
   "metadata": {},
   "outputs": [
    {
     "data": {
      "text/plain": [
       "Index(['ride_id_x', 'rideable_type', 'started_at', 'ended_at',\n",
       "       'start_station_name', 'start_station_id', 'end_station_name',\n",
       "       'end_station_id', 'start_lat', 'start_lng', 'end_lat', 'end_lng',\n",
       "       'member_casual', 'date', 'avg_temp', 'value', 'month', 'ride_id_y',\n",
       "       'merge_flag', 'day_of_week'],\n",
       "      dtype='object')"
      ]
     },
     "execution_count": 8,
     "metadata": {},
     "output_type": "execute_result"
    }
   ],
   "source": [
    "df.columns"
   ]
  },
  {
   "cell_type": "code",
   "execution_count": 9,
   "id": "e6654c6e-d99a-41be-be8f-9a5f1b6ab4ba",
   "metadata": {
    "scrolled": true
   },
   "outputs": [
    {
     "data": {
      "text/plain": [
       "ride_id_x              object\n",
       "rideable_type          object\n",
       "started_at             object\n",
       "ended_at               object\n",
       "start_station_name     object\n",
       "start_station_id       object\n",
       "end_station_name       object\n",
       "end_station_id         object\n",
       "start_lat             float64\n",
       "start_lng             float64\n",
       "end_lat               float64\n",
       "end_lng               float64\n",
       "member_casual          object\n",
       "date                   object\n",
       "avg_temp              float64\n",
       "value                   int64\n",
       "month                  object\n",
       "ride_id_y               int64\n",
       "merge_flag             object\n",
       "day_of_week            object\n",
       "dtype: object"
      ]
     },
     "execution_count": 9,
     "metadata": {},
     "output_type": "execute_result"
    }
   ],
   "source": [
    "df.dtypes"
   ]
  },
  {
   "cell_type": "markdown",
   "id": "ddf3d11e-393e-4b34-b5a9-808677a4fdf7",
   "metadata": {},
   "source": [
    "## Data preprocessing"
   ]
  },
  {
   "cell_type": "code",
   "execution_count": 10,
   "id": "93d84ffb-f079-4e3d-965e-cee3b1a55a3b",
   "metadata": {},
   "outputs": [],
   "source": [
    "# Create a value column and group by start and end station \n",
    "\n",
    "df['value'] = 1\n",
    "df_group = df.groupby(['start_station_name', 'end_station_name'])['value'].count().reset_index()"
   ]
  },
  {
   "cell_type": "code",
   "execution_count": 11,
   "id": "a4b35c32-e2e0-4c6c-957d-591ccd3b5ccd",
   "metadata": {},
   "outputs": [
    {
     "data": {
      "text/html": [
       "<div>\n",
       "<style scoped>\n",
       "    .dataframe tbody tr th:only-of-type {\n",
       "        vertical-align: middle;\n",
       "    }\n",
       "\n",
       "    .dataframe tbody tr th {\n",
       "        vertical-align: top;\n",
       "    }\n",
       "\n",
       "    .dataframe thead th {\n",
       "        text-align: right;\n",
       "    }\n",
       "</style>\n",
       "<table border=\"1\" class=\"dataframe\">\n",
       "  <thead>\n",
       "    <tr style=\"text-align: right;\">\n",
       "      <th></th>\n",
       "      <th>start_station_name</th>\n",
       "      <th>end_station_name</th>\n",
       "      <th>value</th>\n",
       "    </tr>\n",
       "  </thead>\n",
       "  <tbody>\n",
       "    <tr>\n",
       "      <th>0</th>\n",
       "      <td>1 Ave &amp; E 110 St</td>\n",
       "      <td>1 Ave &amp; E 110 St</td>\n",
       "      <td>27</td>\n",
       "    </tr>\n",
       "    <tr>\n",
       "      <th>1</th>\n",
       "      <td>1 Ave &amp; E 110 St</td>\n",
       "      <td>1 Ave &amp; E 44 St</td>\n",
       "      <td>2</td>\n",
       "    </tr>\n",
       "    <tr>\n",
       "      <th>2</th>\n",
       "      <td>1 Ave &amp; E 110 St</td>\n",
       "      <td>1 Ave &amp; E 68 St</td>\n",
       "      <td>1</td>\n",
       "    </tr>\n",
       "    <tr>\n",
       "      <th>3</th>\n",
       "      <td>1 Ave &amp; E 110 St</td>\n",
       "      <td>1 Ave &amp; E 78 St</td>\n",
       "      <td>3</td>\n",
       "    </tr>\n",
       "    <tr>\n",
       "      <th>4</th>\n",
       "      <td>1 Ave &amp; E 110 St</td>\n",
       "      <td>1 Ave &amp; E 94 St</td>\n",
       "      <td>15</td>\n",
       "    </tr>\n",
       "    <tr>\n",
       "      <th>...</th>\n",
       "      <td>...</td>\n",
       "      <td>...</td>\n",
       "      <td>...</td>\n",
       "    </tr>\n",
       "    <tr>\n",
       "      <th>213962</th>\n",
       "      <td>Yankee Ferry Terminal</td>\n",
       "      <td>Picnic Point</td>\n",
       "      <td>16</td>\n",
       "    </tr>\n",
       "    <tr>\n",
       "      <th>213963</th>\n",
       "      <td>Yankee Ferry Terminal</td>\n",
       "      <td>Soissons Landing</td>\n",
       "      <td>19</td>\n",
       "    </tr>\n",
       "    <tr>\n",
       "      <th>213964</th>\n",
       "      <td>Yankee Ferry Terminal</td>\n",
       "      <td>South St &amp; Gouverneur Ln</td>\n",
       "      <td>1</td>\n",
       "    </tr>\n",
       "    <tr>\n",
       "      <th>213965</th>\n",
       "      <td>Yankee Ferry Terminal</td>\n",
       "      <td>South St &amp; Whitehall St</td>\n",
       "      <td>5</td>\n",
       "    </tr>\n",
       "    <tr>\n",
       "      <th>213966</th>\n",
       "      <td>Yankee Ferry Terminal</td>\n",
       "      <td>Yankee Ferry Terminal</td>\n",
       "      <td>67</td>\n",
       "    </tr>\n",
       "  </tbody>\n",
       "</table>\n",
       "<p>213967 rows × 3 columns</p>\n",
       "</div>"
      ],
      "text/plain": [
       "           start_station_name          end_station_name  value\n",
       "0            1 Ave & E 110 St          1 Ave & E 110 St     27\n",
       "1            1 Ave & E 110 St           1 Ave & E 44 St      2\n",
       "2            1 Ave & E 110 St           1 Ave & E 68 St      1\n",
       "3            1 Ave & E 110 St           1 Ave & E 78 St      3\n",
       "4            1 Ave & E 110 St           1 Ave & E 94 St     15\n",
       "...                       ...                       ...    ...\n",
       "213962  Yankee Ferry Terminal              Picnic Point     16\n",
       "213963  Yankee Ferry Terminal          Soissons Landing     19\n",
       "213964  Yankee Ferry Terminal  South St & Gouverneur Ln      1\n",
       "213965  Yankee Ferry Terminal   South St & Whitehall St      5\n",
       "213966  Yankee Ferry Terminal     Yankee Ferry Terminal     67\n",
       "\n",
       "[213967 rows x 3 columns]"
      ]
     },
     "execution_count": 11,
     "metadata": {},
     "output_type": "execute_result"
    }
   ],
   "source": [
    "df_group"
   ]
  },
  {
   "cell_type": "code",
   "execution_count": 12,
   "id": "688032f1-32f0-494c-a1f6-2930227de26e",
   "metadata": {},
   "outputs": [
    {
     "name": "stdout",
     "output_type": "stream",
     "text": [
      "1038922\n",
      "(1048575, 20)\n"
     ]
    }
   ],
   "source": [
    "print(df_group['value'].sum())\n",
    "print(df.shape)"
   ]
  },
  {
   "cell_type": "code",
   "execution_count": 13,
   "id": "306226c8-0cf9-4196-afe8-841c1b99098a",
   "metadata": {},
   "outputs": [
    {
     "data": {
      "text/plain": [
       "count    213967.000000\n",
       "mean          4.855524\n",
       "std           8.717535\n",
       "min           1.000000\n",
       "25%           1.000000\n",
       "50%           2.000000\n",
       "75%           5.000000\n",
       "max         428.000000\n",
       "Name: value, dtype: float64"
      ]
     },
     "execution_count": 13,
     "metadata": {},
     "output_type": "execute_result"
    }
   ],
   "source": [
    "df_group['value'].describe()"
   ]
  },
  {
   "cell_type": "markdown",
   "id": "1a0cb95b-0ff5-472a-9e9d-4b428d6f7304",
   "metadata": {},
   "source": [
    "## Some exploratory analysis"
   ]
  },
  {
   "cell_type": "code",
   "execution_count": 16,
   "id": "c4fd1828-b541-4974-8ed9-c336dc3d8fcc",
   "metadata": {},
   "outputs": [
    {
     "data": {
      "image/png": "[encoded data removed]",
      "text/plain": [
       "<Figure size 640x480 with 1 Axes>"
      ]
     },
     "metadata": {},
     "output_type": "display_data"
    }
   ],
   "source": [
    "df_group['value'].hist(bins = 100)\n",
    "plt.show()"
   ]
  },
  {
   "cell_type": "code",
   "execution_count": 17,
   "id": "1bdffe88-9df8-4482-9098-f7eb56da28b4",
   "metadata": {},
   "outputs": [
    {
     "data": {
      "text/plain": [
       "[]"
      ]
     },
     "execution_count": 17,
     "metadata": {},
     "output_type": "execute_result"
    },
    {
     "data": {
      "image/png": "[encoded data removed]",
      "text/plain": [
       "<Figure size 640x480 with 1 Axes>"
      ]
     },
     "metadata": {},
     "output_type": "display_data"
    }
   ],
   "source": [
    "b_plot = df_group.boxplot(column = 'value') \n",
    "b_plot.plot()"
   ]
  },
  {
   "cell_type": "code",
   "execution_count": 18,
   "id": "22cc91af-fe6e-4388-8af8-a66b8b71afc5",
   "metadata": {},
   "outputs": [
    {
     "data": {
      "text/plain": [
       "value\n",
       "1      88068\n",
       "2      35464\n",
       "3      19735\n",
       "4      13026\n",
       "5       9606\n",
       "       ...  \n",
       "118        1\n",
       "145        1\n",
       "178        1\n",
       "228        1\n",
       "209        1\n",
       "Name: count, Length: 176, dtype: int64"
      ]
     },
     "execution_count": 18,
     "metadata": {},
     "output_type": "execute_result"
    }
   ],
   "source": [
    "df_group['value'].sort_index().value_counts()"
   ]
  },
  {
   "cell_type": "code",
   "execution_count": 19,
   "id": "c691614d-80b5-4235-aa63-938b6a87d80c",
   "metadata": {},
   "outputs": [],
   "source": [
    "df_group.to_csv('df_groupby_final.csv')"
   ]
  },
  {
   "cell_type": "code",
   "execution_count": 20,
   "id": "0ef64f6f-b6c5-4224-8344-03a99269dbf5",
   "metadata": {},
   "outputs": [
    {
     "data": {
      "text/html": [
       "<div>\n",
       "<style scoped>\n",
       "    .dataframe tbody tr th:only-of-type {\n",
       "        vertical-align: middle;\n",
       "    }\n",
       "\n",
       "    .dataframe tbody tr th {\n",
       "        vertical-align: top;\n",
       "    }\n",
       "\n",
       "    .dataframe thead th {\n",
       "        text-align: right;\n",
       "    }\n",
       "</style>\n",
       "<table border=\"1\" class=\"dataframe\">\n",
       "  <thead>\n",
       "    <tr style=\"text-align: right;\">\n",
       "      <th></th>\n",
       "      <th>start_station_name</th>\n",
       "      <th>end_station_name</th>\n",
       "      <th>value</th>\n",
       "    </tr>\n",
       "  </thead>\n",
       "  <tbody>\n",
       "    <tr>\n",
       "      <th>0</th>\n",
       "      <td>1 Ave &amp; E 110 St</td>\n",
       "      <td>1 Ave &amp; E 110 St</td>\n",
       "      <td>27</td>\n",
       "    </tr>\n",
       "    <tr>\n",
       "      <th>1</th>\n",
       "      <td>1 Ave &amp; E 110 St</td>\n",
       "      <td>1 Ave &amp; E 44 St</td>\n",
       "      <td>2</td>\n",
       "    </tr>\n",
       "    <tr>\n",
       "      <th>2</th>\n",
       "      <td>1 Ave &amp; E 110 St</td>\n",
       "      <td>1 Ave &amp; E 68 St</td>\n",
       "      <td>1</td>\n",
       "    </tr>\n",
       "    <tr>\n",
       "      <th>3</th>\n",
       "      <td>1 Ave &amp; E 110 St</td>\n",
       "      <td>1 Ave &amp; E 78 St</td>\n",
       "      <td>3</td>\n",
       "    </tr>\n",
       "    <tr>\n",
       "      <th>4</th>\n",
       "      <td>1 Ave &amp; E 110 St</td>\n",
       "      <td>1 Ave &amp; E 94 St</td>\n",
       "      <td>15</td>\n",
       "    </tr>\n",
       "  </tbody>\n",
       "</table>\n",
       "</div>"
      ],
      "text/plain": [
       "  start_station_name  end_station_name  value\n",
       "0   1 Ave & E 110 St  1 Ave & E 110 St     27\n",
       "1   1 Ave & E 110 St   1 Ave & E 44 St      2\n",
       "2   1 Ave & E 110 St   1 Ave & E 68 St      1\n",
       "3   1 Ave & E 110 St   1 Ave & E 78 St      3\n",
       "4   1 Ave & E 110 St   1 Ave & E 94 St     15"
      ]
     },
     "execution_count": 20,
     "metadata": {},
     "output_type": "execute_result"
    }
   ],
   "source": [
    "df_group.head()"
   ]
  },
  {
   "cell_type": "code",
   "execution_count": 21,
   "id": "1aa12186-e0a7-4560-83e1-62c93068a71e",
   "metadata": {},
   "outputs": [],
   "source": [
    "df_group.rename(columns = {'from_station_name':'start_station_name','to_station_name' : 'end_station_name',\n",
    "                          'value': 'trips'}, inplace = True)"
   ]
  },
  {
   "cell_type": "markdown",
   "id": "88634df8-2335-4a83-8327-d026c3043da5",
   "metadata": {},
   "source": [
    "## Merge data"
   ]
  },
  {
   "cell_type": "code",
   "execution_count": 58,
   "id": "e92f91bf-45f9-4c5e-85d6-a5f028de3e8c",
   "metadata": {},
   "outputs": [],
   "source": [
    "# Create a unique dataframe with station names and their coordinates\n",
    "start_coords = df[['start_station_name', 'start_lat', 'start_lng']].drop_duplicates()\n",
    "end_coords = df[['end_station_name', 'end_lat', 'end_lng']].drop_duplicates()"
   ]
  },
  {
   "cell_type": "code",
   "execution_count": 59,
   "id": "f40152ed-bf6c-49e1-b093-44c15b2f3d48",
   "metadata": {},
   "outputs": [],
   "source": [
    "# Rename for merge\n",
    "start_coords.columns = ['start_station_name', 'lat', 'lon']\n",
    "end_coords.columns = ['end_station_name', 'end_lat', 'end_lng']"
   ]
  },
  {
   "cell_type": "code",
   "execution_count": 60,
   "id": "25e7ba4f-3c8a-47d8-aafa-a0256a38c8ef",
   "metadata": {},
   "outputs": [],
   "source": [
    "# Merge coordinates into your grouped data\n",
    "df_group = df_group.merge(start_coords, on='start_station_name', how='left')\n",
    "df_group = df_group.merge(end_coords, on='end_station_name', how='left')"
   ]
  },
  {
   "cell_type": "markdown",
   "id": "24ab1139-3833-448f-8e43-ad3d71b89d97",
   "metadata": {},
   "source": [
    "## Initializing the Map"
   ]
  },
  {
   "cell_type": "code",
   "execution_count": 61,
   "id": "1903f590-ef43-48c6-b247-f3f88ec9ae25",
   "metadata": {},
   "outputs": [
    {
     "name": "stdout",
     "output_type": "stream",
     "text": [
      "User Guide: https://docs.kepler.gl/docs/keplergl-jupyter\n"
     ]
    }
   ],
   "source": [
    "map_1 = KeplerGl(height=700, data={\"NYC Trip Data\": df_group})"
   ]
  },
  {
   "cell_type": "code",
   "execution_count": 62,
   "id": "05792974-3195-4d7c-a0b4-5981d3032dd1",
   "metadata": {
    "scrolled": true
   },
   "outputs": [
    {
     "data": {
      "application/vnd.jupyter.widget-view+json": {
       "model_id": "44cea713095b454ab63005f832de7b46",
       "version_major": 2,
       "version_minor": 0
      },
      "text/plain": [
       "KeplerGl(data={'NYC Trip Data':            start_station_name         end_station_name  trips        lat  \\\n",
       "0 …"
      ]
     },
     "metadata": {},
     "output_type": "display_data"
    }
   ],
   "source": [
    "map_1"
   ]
  },
  {
   "cell_type": "markdown",
   "id": "056568cb-f450-45ac-99ff-156ec3620fe0",
   "metadata": {},
   "source": [
    "#### 1. **Point Layer** for Station Locations:\n",
    "   - Color: Blue (#1f78b4) to stand out against the dark map.\n",
    "   - Radius: Increased for visibility.\n",
    "   - Location: Mapped using start_lat and start_lng.\n",
    "\n",
    "2. **Arc Layer** for Visualizing Trips:\n",
    "   - Arcs connect start and end stations.\n",
    "   - Thickness is based on the number of trips (value column).\n",
    "   - Gradient from blue to orange indicates trip volume.\n",
    "\n",
    "These visual settings helped emphasize both **trip intensity** and **station density**, improving the readability and storytelling of the map."
   ]
  },
  {
   "cell_type": "markdown",
   "id": "4bef7dcc-e2be-41b1-99f0-8d4eb4337107",
   "metadata": {},
   "source": [
    "## Analysis"
   ]
  },
  {
   "cell_type": "markdown",
   "id": "f7b8745e-5812-4f9d-b398-0cd8b28c2744",
   "metadata": {},
   "source": [
    "#### Filter and Analysis of NYC Trip Map\n",
    "\n",
    "After applying a filter on the value column to only show high-frequency trips, several key patterns emerged:\n",
    "\n",
    "- The busiest bike trips were concentrated in areas like Midtown Manhattan, Lower Manhattan, and parts of Brooklyn.\n",
    "- High-density arcs were seen between major hubs like Central Park, Penn Station, and the Brooklyn Bridge.\n",
    "- These zones correspond with both commuter traffic and tourist hotspots.\n",
    "\n",
    "Based on additional research, areas like Midtown have:\n",
    "- High office density\n",
    "- Subway transfer hubs\n",
    "- Popular tourist spots\n",
    "\n",
    "This explains the heavy use of bikes in these locations, especially during commuting hours and weekends."
   ]
  },
  {
   "cell_type": "code",
   "execution_count": 64,
   "id": "ce1e664c-2ad1-4d73-80b6-936a09a8d26b",
   "metadata": {},
   "outputs": [],
   "source": [
    "# Export the current map's configuration\n",
    "config = map_1.config"
   ]
  },
  {
   "cell_type": "code",
   "execution_count": 65,
   "id": "5a70f4e8-e247-480d-ac2e-fefe94ceca95",
   "metadata": {
    "scrolled": true
   },
   "outputs": [
    {
     "data": {
      "text/plain": [
       "{'version': 'v1',\n",
       " 'config': {'visState': {'filters': [{'dataId': ['NYC Trip Data'],\n",
       "     'id': 'wzk9phedj',\n",
       "     'name': ['trips'],\n",
       "     'type': 'range',\n",
       "     'value': [52.29, 99],\n",
       "     'plotType': 'histogram',\n",
       "     'animationWindow': 'free',\n",
       "     'yAxis': None,\n",
       "     'view': 'side',\n",
       "     'speed': 1,\n",
       "     'enabled': True}],\n",
       "   'layers': [{'id': 'ywmmn9',\n",
       "     'type': 'point',\n",
       "     'config': {'dataId': 'NYC Trip Data',\n",
       "      'label': 'start',\n",
       "      'color': [136, 87, 44],\n",
       "      'highlightColor': [252, 242, 26, 255],\n",
       "      'columns': {'lat': 'lat', 'lng': 'lon'},\n",
       "      'isVisible': True,\n",
       "      'visConfig': {'radius': 10,\n",
       "       'fixedRadius': False,\n",
       "       'opacity': 0.8,\n",
       "       'outline': False,\n",
       "       'thickness': 2,\n",
       "       'strokeColor': None,\n",
       "       'colorRange': {'name': 'Global Warming',\n",
       "        'type': 'sequential',\n",
       "        'category': 'Uber',\n",
       "        'colors': ['#5A1846',\n",
       "         '#900C3F',\n",
       "         '#C70039',\n",
       "         '#E3611C',\n",
       "         '#F1920E',\n",
       "         '#FFC300']},\n",
       "       'strokeColorRange': {'name': 'Global Warming',\n",
       "        'type': 'sequential',\n",
       "        'category': 'Uber',\n",
       "        'colors': ['#5A1846',\n",
       "         '#900C3F',\n",
       "         '#C70039',\n",
       "         '#E3611C',\n",
       "         '#F1920E',\n",
       "         '#FFC300']},\n",
       "       'radiusRange': [0, 50],\n",
       "       'filled': True},\n",
       "      'hidden': False,\n",
       "      'textLabel': [{'field': None,\n",
       "        'color': [255, 255, 255],\n",
       "        'size': 18,\n",
       "        'offset': [0, 0],\n",
       "        'anchor': 'start',\n",
       "        'alignment': 'center',\n",
       "        'outlineWidth': 0,\n",
       "        'outlineColor': [255, 0, 0, 255],\n",
       "        'background': False,\n",
       "        'backgroundColor': [0, 0, 200, 255]}]},\n",
       "     'visualChannels': {'colorField': {'name': 'trips', 'type': 'integer'},\n",
       "      'colorScale': 'quantile',\n",
       "      'strokeColorField': None,\n",
       "      'strokeColorScale': 'quantile',\n",
       "      'sizeField': None,\n",
       "      'sizeScale': 'linear'}},\n",
       "    {'id': 'vnes6y',\n",
       "     'type': 'point',\n",
       "     'config': {'dataId': 'NYC Trip Data',\n",
       "      'label': 'end',\n",
       "      'color': [255, 153, 31],\n",
       "      'highlightColor': [252, 242, 26, 255],\n",
       "      'columns': {'lat': 'end_lat', 'lng': 'end_lng'},\n",
       "      'isVisible': False,\n",
       "      'visConfig': {'radius': 10,\n",
       "       'fixedRadius': False,\n",
       "       'opacity': 0.8,\n",
       "       'outline': False,\n",
       "       'thickness': 2,\n",
       "       'strokeColor': None,\n",
       "       'colorRange': {'name': 'Global Warming',\n",
       "        'type': 'sequential',\n",
       "        'category': 'Uber',\n",
       "        'colors': ['#5A1846',\n",
       "         '#900C3F',\n",
       "         '#C70039',\n",
       "         '#E3611C',\n",
       "         '#F1920E',\n",
       "         '#FFC300']},\n",
       "       'strokeColorRange': {'name': 'Global Warming',\n",
       "        'type': 'sequential',\n",
       "        'category': 'Uber',\n",
       "        'colors': ['#5A1846',\n",
       "         '#900C3F',\n",
       "         '#C70039',\n",
       "         '#E3611C',\n",
       "         '#F1920E',\n",
       "         '#FFC300']},\n",
       "       'radiusRange': [0, 50],\n",
       "       'filled': True},\n",
       "      'hidden': False,\n",
       "      'textLabel': [{'field': None,\n",
       "        'color': [255, 255, 255],\n",
       "        'size': 18,\n",
       "        'offset': [0, 0],\n",
       "        'anchor': 'start',\n",
       "        'alignment': 'center',\n",
       "        'outlineWidth': 0,\n",
       "        'outlineColor': [255, 0, 0, 255],\n",
       "        'background': False,\n",
       "        'backgroundColor': [0, 0, 200, 255]}]},\n",
       "     'visualChannels': {'colorField': {'name': 'trips', 'type': 'integer'},\n",
       "      'colorScale': 'quantile',\n",
       "      'strokeColorField': None,\n",
       "      'strokeColorScale': 'quantile',\n",
       "      'sizeField': None,\n",
       "      'sizeScale': 'linear'}},\n",
       "    {'id': 'ib45kn8',\n",
       "     'type': 'arc',\n",
       "     'config': {'dataId': 'NYC Trip Data',\n",
       "      'label': 'start -> end arc',\n",
       "      'color': [146, 38, 198],\n",
       "      'highlightColor': [252, 242, 26, 255],\n",
       "      'columns': {'lat0': 'lat',\n",
       "       'lng0': 'lon',\n",
       "       'lat1': 'end_lat',\n",
       "       'lng1': 'end_lng'},\n",
       "      'isVisible': False,\n",
       "      'visConfig': {'opacity': 0.8,\n",
       "       'thickness': 2,\n",
       "       'colorRange': {'name': 'Global Warming',\n",
       "        'type': 'sequential',\n",
       "        'category': 'Uber',\n",
       "        'colors': ['#5A1846',\n",
       "         '#900C3F',\n",
       "         '#C70039',\n",
       "         '#E3611C',\n",
       "         '#F1920E',\n",
       "         '#FFC300']},\n",
       "       'sizeRange': [0, 10],\n",
       "       'targetColor': None},\n",
       "      'hidden': False,\n",
       "      'textLabel': [{'field': None,\n",
       "        'color': [255, 255, 255],\n",
       "        'size': 18,\n",
       "        'offset': [0, 0],\n",
       "        'anchor': 'start',\n",
       "        'alignment': 'center',\n",
       "        'outlineWidth': 0,\n",
       "        'outlineColor': [255, 0, 0, 255],\n",
       "        'background': False,\n",
       "        'backgroundColor': [0, 0, 200, 255]}]},\n",
       "     'visualChannels': {'colorField': None,\n",
       "      'colorScale': 'quantile',\n",
       "      'sizeField': None,\n",
       "      'sizeScale': 'linear'}},\n",
       "    {'id': 'b3009qi',\n",
       "     'type': 'line',\n",
       "     'config': {'dataId': 'NYC Trip Data',\n",
       "      'label': 'start -> end line',\n",
       "      'color': [241, 92, 23],\n",
       "      'highlightColor': [252, 242, 26, 255],\n",
       "      'columns': {'lat0': 'lat',\n",
       "       'lng0': 'lon',\n",
       "       'lat1': 'end_lat',\n",
       "       'lng1': 'end_lng'},\n",
       "      'isVisible': False,\n",
       "      'visConfig': {'opacity': 0.8,\n",
       "       'thickness': 2,\n",
       "       'colorRange': {'name': 'Global Warming',\n",
       "        'type': 'sequential',\n",
       "        'category': 'Uber',\n",
       "        'colors': ['#5A1846',\n",
       "         '#900C3F',\n",
       "         '#C70039',\n",
       "         '#E3611C',\n",
       "         '#F1920E',\n",
       "         '#FFC300']},\n",
       "       'sizeRange': [0, 10],\n",
       "       'targetColor': None,\n",
       "       'elevationScale': 1},\n",
       "      'hidden': False,\n",
       "      'textLabel': [{'field': None,\n",
       "        'color': [255, 255, 255],\n",
       "        'size': 18,\n",
       "        'offset': [0, 0],\n",
       "        'anchor': 'start',\n",
       "        'alignment': 'center',\n",
       "        'outlineWidth': 0,\n",
       "        'outlineColor': [255, 0, 0, 255],\n",
       "        'background': False,\n",
       "        'backgroundColor': [0, 0, 200, 255]}]},\n",
       "     'visualChannels': {'colorField': None,\n",
       "      'colorScale': 'quantile',\n",
       "      'sizeField': None,\n",
       "      'sizeScale': 'linear'}}],\n",
       "   'effects': [],\n",
       "   'interactionConfig': {'tooltip': {'fieldsToShow': {'NYC Trip Data': [{'name': 'start_station_name',\n",
       "        'format': None},\n",
       "       {'name': 'end_station_name', 'format': None},\n",
       "       {'name': 'trips', 'format': None}]},\n",
       "     'compareMode': False,\n",
       "     'compareType': 'absolute',\n",
       "     'enabled': True},\n",
       "    'brush': {'size': 0.5, 'enabled': False},\n",
       "    'geocoder': {'enabled': False},\n",
       "    'coordinate': {'enabled': False}},\n",
       "   'layerBlending': 'normal',\n",
       "   'overlayBlending': 'normal',\n",
       "   'splitMaps': [],\n",
       "   'animationConfig': {'currentTime': None, 'speed': 1},\n",
       "   'editor': {'features': [], 'visible': True}},\n",
       "  'mapState': {'bearing': 0,\n",
       "   'dragRotate': False,\n",
       "   'latitude': 40.7578225,\n",
       "   'longitude': -73.95467383,\n",
       "   'pitch': 0,\n",
       "   'zoom': 10,\n",
       "   'isSplit': False,\n",
       "   'isViewportSynced': True,\n",
       "   'isZoomLocked': False,\n",
       "   'splitMapViewports': []},\n",
       "  'mapStyle': {'styleType': 'dark-matter',\n",
       "   'topLayerGroups': {},\n",
       "   'visibleLayerGroups': {'label': True,\n",
       "    'road': True,\n",
       "    'border': False,\n",
       "    'building': True,\n",
       "    'water': True,\n",
       "    'land': True,\n",
       "    '3d building': False},\n",
       "   'threeDBuildingColor': [15.035172933000911,\n",
       "    15.035172933000911,\n",
       "    15.035172933000911],\n",
       "   'backgroundColor': [0, 0, 0],\n",
       "   'mapStyles': {}}}}"
      ]
     },
     "execution_count": 65,
     "metadata": {},
     "output_type": "execute_result"
    }
   ],
   "source": [
    "config"
   ]
  },
  {
   "cell_type": "code",
   "execution_count": null,
   "id": "57236701-7eca-400d-b16d-432bf819f46d",
   "metadata": {},
   "outputs": [],
   "source": [
    "import json\n",
    "with open(\"config.json\", \"w\") as outfile:\n",
    "    json.dump(config, outfile)"
   ]
  },
  {
   "cell_type": "code",
   "execution_count": null,
   "id": "e3380948-8ba1-4585-8ccf-ba9f13622999",
   "metadata": {},
   "outputs": [],
   "source": [
    "m.save_to_html(file_name='CitiBike_Aggregated_Trips_Map.html', read_only=False)"
   ]
  }
 ],
 "metadata": {
  "kernelspec": {
   "display_name": "Python 3 (ipykernel)",
   "language": "python",
   "name": "python3"
  },
  "language_info": {
   "codemirror_mode": {
    "name": "ipython",
    "version": 3
   },
   "file_extension": ".py",
   "mimetype": "text/x-python",
   "name": "python",
   "nbconvert_exporter": "python",
   "pygments_lexer": "ipython3",
   "version": "3.12.7"
  }
 },
 "nbformat": 4,
 "nbformat_minor": 5
}
